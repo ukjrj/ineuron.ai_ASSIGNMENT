{
 "cells": [
  {
   "cell_type": "markdown",
   "metadata": {},
   "source": [
    "#### Importing required libraries"
   ]
  },
  {
   "cell_type": "code",
   "execution_count": 1,
   "metadata": {},
   "outputs": [],
   "source": [
    "import numpy as np\n",
    "import statistics as sc\n",
    "from scipy import integrate\n",
    "from scipy.stats import binom,poisson,norm\n",
    "import matplotlib.pyplot as plt"
   ]
  },
  {
   "cell_type": "markdown",
   "metadata": {
    "id": "UUQffSZQu6_h"
   },
   "source": [
    "Calculate the mean, median, mode and standard deviation for the problem\n",
    "statements 1& 2.\n",
    "\n",
    "**Problem Statement 1:**\n",
    "\n",
    "The marks awarded for an assignment set for a Year 8 class of 20 students were as\n",
    "follows:\n",
    "6 7 5 7 7 8 7 6 9 7 4 10 6 8 8 9 5 6 4 8\n",
    "\n",
    "**Problem Statement 2:**\n",
    "\n",
    "The number of calls from motorists per day for roadside service was recorded for a\n",
    "particular month:\n",
    "28, 122, 217, 130, 120, 86, 80, 90, 140, 120, 70, 40, 145, 113, 90, 68, 174, 194, 170,\n",
    "100, 75, 104, 97, 75,\n",
    "123, 100, 75, 104, 97, 75, 123, 100, 89, 120, 109"
   ]
  },
  {
   "cell_type": "code",
   "execution_count": null,
   "metadata": {
    "colab": {
     "base_uri": "https://localhost:8080/"
    },
    "id": "lvjRrFmvk6I1",
    "outputId": "7156f3b4-4be9-4a8c-f97c-1efc6c7baccc"
   },
   "outputs": [
    {
     "name": "stdout",
     "output_type": "stream",
     "text": [
      "\n",
      "Solution:\n",
      "\n",
      "Problem Statement 1:\n",
      "\n",
      "The mean mark awarded for an assignment set for a Year 8 class of 20 students is :6.85 \n",
      "The median mark awarded for an assignment set for a Year 8 class of 20 students is :7.0\n",
      "The mode mark awarded for an assignment set for a Year 8 class of 20 students is :7\n",
      "The standard deviation mark awarded for an assignment set for a Year 8 class of 20 students is :1.6311119875071343\n",
      "\n",
      "\n",
      "Problem Statement 2:\n",
      "\n",
      "The mean of calls from motorists per day for roadside service was recorded for a particular month :107.51428571428572 \n",
      "The median of calls from motorists per day for roadside service was recorded for a particular month :100\n",
      "The mode of calls from motorists per day for roadside service was recorded for a particular month :75\n",
      "The standard deviation of calls from motorists per day for roadside service was recorded for a particular month :39.33892805484412\n",
      "\n"
     ]
    }
   ],
   "source": [
    "A1=[int(i) for i in \"6 7 5 7 7 8 7 6 9 7 4 10 6 8 8 9 5 6 4 8\".split(' ')]\n",
    "A2=[28, 122, 217, 130, 120, 86, 80, 90, 140, 120, 70, 40, 145, 113, 90, 68, 174, 194, 170, 100, 75, 104, 97, 75, 123, 100, 75, 104, 97, 75, 123, 100, 89, 120, 109]\n",
    "print(f'''\n",
    "Solution:\n",
    "\n",
    "Problem Statement 1:\n",
    "\n",
    "The mean mark awarded for an assignment set for a Year 8 class of 20 students is :{sc.mean(A1)} \n",
    "The median mark awarded for an assignment set for a Year 8 class of 20 students is :{sc.median(A1)}\n",
    "The mode mark awarded for an assignment set for a Year 8 class of 20 students is :{sc.mode(A1)}\n",
    "The standard deviation mark awarded for an assignment set for a Year 8 class of 20 students is :{sc.stdev(A1)}\n",
    "\n",
    "\n",
    "Problem Statement 2:\n",
    "\n",
    "The mean of calls from motorists per day for roadside service was recorded for a particular month :{sc.mean(A2)} \n",
    "The median of calls from motorists per day for roadside service was recorded for a particular month :{sc.median(A2)}\n",
    "The mode of calls from motorists per day for roadside service was recorded for a particular month :{sc.mode(A2)}\n",
    "The standard deviation of calls from motorists per day for roadside service was recorded for a particular month :{sc.stdev(A2)}\n",
    "''')"
   ]
  },
  {
   "cell_type": "markdown",
   "metadata": {
    "id": "JYLyEvXqqsdO"
   },
   "source": [
    "**Problem Statement 3:**\n",
    "\n",
    "The number of times I go to the gym in weekdays, are given below along with its associated probability:\n",
    "\n",
    "x = 0, 1, 2, 3, 4, 5\n",
    "\n",
    "f(x) = 0.09, 0.15, 0.40, 0.25, 0.10, 0.01\n",
    "\n",
    "Calculate the mean no. of workouts in a week. Also evaluate the variance involved in\n",
    "it."
   ]
  },
  {
   "cell_type": "code",
   "execution_count": null,
   "metadata": {
    "colab": {
     "base_uri": "https://localhost:8080/"
    },
    "id": "LdON7IQtyNQB",
    "outputId": "844de82a-5c66-4f36-c5a6-108735462242"
   },
   "outputs": [
    {
     "name": "stdout",
     "output_type": "stream",
     "text": [
      "mean no. of workouts in a week is :2.15 \n",
      "variance involved in it is :1.2275\n"
     ]
    }
   ],
   "source": [
    "x = [0, 1, 2, 3, 4, 5]\n",
    "f_x = [0.09, 0.15, 0.40, 0.25, 0.10, 0.01]\n",
    "print(f'mean no. of workouts in a week is :{sum([i*j for i,j in zip(x,f_x)])} \\nvariance involved in it is :{sum([(a**2)*b for a,b in zip(x,f_x)])-(sum([i*j for i,j in zip(x,f_x)]))**2}')"
   ]
  },
  {
   "cell_type": "markdown",
   "metadata": {
    "id": "OrXKGnuIBDDM"
   },
   "source": [
    "**Problem Statement 4:**\n",
    "\n",
    "Let the continuous random variable D denote the diameter of the hole drilled in an\n",
    "aluminum sheet. The target diameter to be achieved is 12.5mm. Random\n",
    "disturbances in the process often result in inaccuracy.\n",
    "Historical data shows that the distribution of D can be modelled by the PDF (d) =\n",
    "20e−20(d−12.5), d ≥ 12.5. If a part with diameter > 12.6 mm needs to be scrapped,\n",
    "what is the proportion of those parts? What is the CDF when the diameter is of 11\n",
    "mm? What is your conclusion regarding the proportion of scraps?"
   ]
  },
  {
   "cell_type": "code",
   "execution_count": 86,
   "metadata": {
    "colab": {
     "base_uri": "https://localhost:8080/"
    },
    "id": "5458WGbyseZm",
    "outputId": "e2013c47-fe06-4d9b-98ad-480e50463a51"
   },
   "outputs": [
    {
     "name": "stdout",
     "output_type": "stream",
     "text": [
      "Proportion of Parts need to scrapped when d >12.6mm is :0.135\n",
      "CDF when d= 11mm is 0\n",
      "For diameter less than target diameter that is  12.5 mm, the proportion of scrap is zero.\n",
      "and for any value above 12.5 mm the proportion of scraps need to scrapped.\n"
     ]
    }
   ],
   "source": [
    "PDF=lambda d:20*(np.exp((-20*(d-12.5))))\n",
    "x = 12.6\n",
    "P_x=integrate.quad(PDF,12.6,np.inf)\n",
    "print(f\"Proportion of Parts need to scrapped when d >12.6mm is :{round(P_x[0],3)}\")\n",
    "print(f\"CDF when d= 11mm is 0\")\n",
    "print('For diameter less than target diameter that is  12.5 mm, the proportion of scrap is zero.\\nand for any value above 12.5 mm the proportion of scraps need to scrapped.')"
   ]
  },
  {
   "cell_type": "markdown",
   "metadata": {
    "id": "bTfNNaBNMyho"
   },
   "source": [
    "**Problem Statement 5:**\n",
    "\n",
    "A company manufactures LED bulbs with a faulty rate of 30%. If I randomly select 6\n",
    "chosen LEDs, what is the probability of having 2 faulty LEDs in my sample?\n",
    "Calculate the average value of this process. Also evaluate the standard deviation\n",
    "associated with it."
   ]
  },
  {
   "cell_type": "code",
   "execution_count": null,
   "metadata": {
    "colab": {
     "base_uri": "https://localhost:8080/"
    },
    "id": "hM7tL_5hK2Js",
    "outputId": "5308f0c4-5529-4f0a-8e9f-7889eeedff3d"
   },
   "outputs": [
    {
     "name": "stdout",
     "output_type": "stream",
     "text": [
      " probability of having 2 faulty LEDs in my sample is 0.32413\n",
      "The average value of this process 1.8\n",
      "Standard deviation for this process is 1.12\n"
     ]
    }
   ],
   "source": [
    "total_sample = 6\n",
    "proba = 0.3\n",
    "print(f' probability of having 2 faulty LEDs in my sample is {round(binom.pmf(2, total_sample,proba ),5)}')\n",
    "mean , var = binom.stats(total_sample, proba)\n",
    "std = var**0.5\n",
    "print('The average value of this process',round(mean.tolist(),2))\n",
    "print('Standard deviation for this process is',round(std.tolist(),2))"
   ]
  },
  {
   "cell_type": "markdown",
   "metadata": {
    "id": "1SiCa_7fRDon"
   },
   "source": [
    "**Problem Statement 6:**\n",
    "\n",
    "Gaurav and Barakha are both preparing for entrance exams. Gaurav attempts to\n",
    "solve 8 questions per day with a correction rate of 75%, while Barakha averages\n",
    "around 12 questions per day with a correction rate of 45%. What is the probability\n",
    "that each of them will solve 5 questions correctly? What happens in cases of 4 and 6\n",
    "correct solutions? What do you infer from it? What are the two main governing\n",
    "factors affecting their ability to solve questions correctly? Give a pictorial\n",
    "representation of the same to validate your answer."
   ]
  },
  {
   "cell_type": "code",
   "execution_count": 68,
   "metadata": {
    "colab": {
     "base_uri": "https://localhost:8080/"
    },
    "id": "btDAkGD0PPar",
    "outputId": "d9e18d05-f0f7-4fc5-8ccd-881353f020ee"
   },
   "outputs": [
    {
     "name": "stdout",
     "output_type": "stream",
     "text": [
      "Probability of Gaurav  solving 5 questions correctly is:0.20764160156249994\n",
      "Probability of Barakha  solving 5 questions correctly is:0.17192485406250016\n"
     ]
    }
   ],
   "source": [
    "print(f\"Probability of Gaurav  solving 5 questions correctly is:{binom.pmf(5,8,0.75)}\")\n",
    "print(f\"Probability of Barakha  solving 5 questions correctly is:{binom.pmf(5,8,0.45)}\")"
   ]
  },
  {
   "cell_type": "code",
   "execution_count": 69,
   "metadata": {
    "colab": {
     "base_uri": "https://localhost:8080/"
    },
    "id": "PNSluSwpQUhX",
    "outputId": "9c9d3c78-e8de-4b1b-9063-389c13067f95"
   },
   "outputs": [
    {
     "name": "stdout",
     "output_type": "stream",
     "text": [
      "Probability of Gaurav  solving 4 questions correctly is:0.08651733398437499\n",
      "Probability of Barakha  solving 4 questions correctly is:0.2626629714843751\n",
      "Probability of Gaurav  solving 6 questions correctly is:0.31146240234375\n",
      "Probability of Barakha  solving 6 questions correctly is:0.07033289484374985\n"
     ]
    }
   ],
   "source": [
    "print(f\"Probability of Gaurav  solving 4 questions correctly is:{binom.pmf(4,8,0.75)}\")\n",
    "print(f\"Probability of Barakha  solving 4 questions correctly is:{binom.pmf(4,8,0.45)}\")\n",
    "print(f\"Probability of Gaurav  solving 6 questions correctly is:{binom.pmf(6,8,0.75)}\")\n",
    "print(f\"Probability of Barakha  solving 6 questions correctly is:{binom.pmf(6,8,0.45)}\")"
   ]
  },
  {
   "cell_type": "code",
   "execution_count": 78,
   "metadata": {
    "id": "FeLSZdEQQWAX"
   },
   "outputs": [],
   "source": [
    "def binom_plot(n,p):\n",
    "    fig,ax=plt.subplots(1,1)\n",
    "    x = np.arange(binom.ppf(0.01, n, p),binom.ppf(0.99, n, p))\n",
    "    ax.plot(x, binom.pmf(x, n, p), 'bo', ms=8, label='binom pmf')\n",
    "    ax.vlines(x, 0, binom.pmf(x, n, p), colors='b', lw=5, alpha=0.5)\n",
    "    plt.xlabel('Number of questions solved correctly')\n",
    "    plt.ylabel('Probability of solving')"
   ]
  },
  {
   "cell_type": "code",
   "execution_count": 79,
   "metadata": {
    "colab": {
     "base_uri": "https://localhost:8080/",
     "height": 279
    },
    "id": "Aoj5uQ7eUNtN",
    "outputId": "3a2cc39e-4b98-47e4-dc9c-4e87c0e711dd"
   },
   "outputs": [
    {
     "data": {
      "image/png": "[encoded data removed]",
      "text/plain": [
       "<Figure size 432x288 with 1 Axes>"
      ]
     },
     "metadata": {
      "needs_background": "light"
     },
     "output_type": "display_data"
    }
   ],
   "source": [
    "#Gaurav\n",
    "binom_plot(8,0.75)"
   ]
  },
  {
   "cell_type": "code",
   "execution_count": 80,
   "metadata": {
    "colab": {
     "base_uri": "https://localhost:8080/",
     "height": 279
    },
    "id": "fJWfb7N-UXhb",
    "outputId": "b6f3fde3-c174-4cd8-d093-6361a9fc44ce"
   },
   "outputs": [
    {
     "data": {
      "image/png": "[encoded data removed]",
      "text/plain": [
       "<Figure size 432x288 with 1 Axes>"
      ]
     },
     "metadata": {
      "needs_background": "light"
     },
     "output_type": "display_data"
    }
   ],
   "source": [
    "#Barakha\n",
    "binom_plot(12,0.45)"
   ]
  },
  {
   "cell_type": "markdown",
   "metadata": {
    "id": "MZYsPAi1VaqB"
   },
   "source": [
    "The two main factors affecting the ability to solve questions correctly are:\n",
    "\n",
    "1.Correction rate\n",
    "\n",
    "2.Number of questions solved per day\n"
   ]
  },
  {
   "cell_type": "markdown",
   "metadata": {
    "id": "Nxk_CwSIWOKG"
   },
   "source": [
    "**Problem Statement 7:**\n",
    "\n",
    "Customers arrive at a rate of 72 per hour to my shop. What is the probability of k\n",
    "customers arriving in 4 minutes? a) 5 customers, b) not more than 3 customers, c)\n",
    "more than 3 customers. Give a pictorial representation of the same to validate your\n",
    "answer."
   ]
  },
  {
   "cell_type": "code",
   "execution_count": 82,
   "metadata": {
    "colab": {
     "base_uri": "https://localhost:8080/"
    },
    "id": "aoGXf8uuWMgk",
    "outputId": "1ee2fbef-c6fb-41b7-cafe-39d80ee43c17"
   },
   "outputs": [
    {
     "name": "stdout",
     "output_type": "stream",
     "text": [
      "The probability of arriving 5 cutomers in 4 minutes is : 0.17474768364388296\n",
      "The probability of arriving not more than 3 customers in 4 minutes is : 0.15169069760753714\n",
      "The Probability of more than 3 customers arriving in 4 minutes is : 0.7057700835034357\n"
     ]
    }
   ],
   "source": [
    "mu = 4*(72/60) \n",
    "print(f\"The probability of arriving 5 cutomers in 4 minutes is : {poisson.pmf(k=5,mu=mu)}\")\n",
    "print(f\"The probability of arriving not more than 3 customers in 4 minutes is : {poisson.pmf(k=3, mu=mu)}\")\n",
    "print(f'The Probability of more than 3 customers arriving in 4 minutes is : {1-poisson.cdf(k=3,mu=mu)}')"
   ]
  },
  {
   "cell_type": "code",
   "execution_count": 83,
   "metadata": {
    "colab": {
     "base_uri": "https://localhost:8080/",
     "height": 334
    },
    "id": "A0BSjKd7Uk9q",
    "outputId": "992a5f53-3f0a-4f84-cdba-8b03a42fa0e9"
   },
   "outputs": [
    {
     "data": {
      "image/png": "[encoded data removed]",
      "text/plain": [
       "<Figure size 1080x360 with 1 Axes>"
      ]
     },
     "metadata": {
      "needs_background": "light"
     },
     "output_type": "display_data"
    }
   ],
   "source": [
    "x = list(range(0,10))\n",
    "fig,ax = plt.subplots(1,1,figsize=(15,5))\n",
    "ax.plot(x, poisson.pmf(x,mu), 'bo', ms=8, label='poisson pmf')\n",
    "ax.vlines(x, 0, poisson.pmf(x, mu), colors='b', lw=5, alpha=0.5)\n",
    "plt.xlabel('Number of customers')\n",
    "plt.ylabel('Probability')\n",
    "plt.show()"
   ]
  },
  {
   "cell_type": "markdown",
   "metadata": {
    "id": "yKLhmGPwXD86"
   },
   "source": [
    "**Problem Statement 8:**\n",
    "\n",
    "I work as a data analyst in Aeon Learning Pvt. Ltd. After analyzing data, I make\n",
    "reports, where I have the efficiency of entering 77 words per minute with 6 errors per\n",
    "hour. What is the probability that I will commit 2 errors in a 455-word financial report?\n",
    "What happens when the no. of words increases/decreases (in case of 1000 words,\n",
    "255 words)?\n",
    "\n",
    "How is the λ affected?\n",
    "\n",
    "How does it influence the PMF?\n",
    "\n",
    "Give a pictorial representation of the same to validate your answer."
   ]
  },
  {
   "cell_type": "code",
   "execution_count": 84,
   "metadata": {
    "colab": {
     "base_uri": "https://localhost:8080/",
     "height": 389
    },
    "id": "FNmpyf0WW5p6",
    "outputId": "20b059fd-20d7-4e18-ad84-2a851d242881"
   },
   "outputs": [
    {
     "name": "stdout",
     "output_type": "stream",
     "text": [
      "The pobability of commiting 2 errors in 455 words financial report is :0.09669027375144444\n",
      "The pobability of commiting 2 errors in 1000 words financial report is :0.23012815007300153\n",
      "The pobability of commiting 2 errors in 255 words financial report is :0.039377135392854104\n"
     ]
    },
    {
     "data": {
      "text/plain": [
       "<matplotlib.collections.LineCollection at 0x7f5659313ca0>"
      ]
     },
     "execution_count": 84,
     "metadata": {},
     "output_type": "execute_result"
    },
    {
     "data": {
      "image/png": "[encoded data removed]",
      "text/plain": [
       "<Figure size 1080x360 with 1 Axes>"
      ]
     },
     "metadata": {
      "needs_background": "light"
     },
     "output_type": "display_data"
    }
   ],
   "source": [
    "unit_mu=0.1/77\n",
    "def mu(n):\n",
    "    return n * unit_mu\n",
    "print(f\"The pobability of commiting 2 errors in 455 words financial report is :{poisson.pmf(2,mu=mu(455))}\")\n",
    "print(f\"The pobability of commiting 2 errors in 1000 words financial report is :{poisson.pmf(2,mu=mu(1000))}\")\n",
    "print(f\"The pobability of commiting 2 errors in 255 words financial report is :{poisson.pmf(2,mu=mu(255))}\")\n",
    "x=range(100,1000,50)\n",
    "mu=[i*unit_mu for i in x]\n",
    "fig,ax = plt.subplots(1,1,figsize=(15,5))\n",
    "ax.plot(x,poisson.pmf(2,mu), 'bo', ms=8, label='poisson pmf')\n",
    "ax.vlines(x,0, poisson.pmf(2,mu), colors='b', lw=5, alpha=0.5)"
   ]
  },
  {
   "cell_type": "code",
   "execution_count": 85,
   "metadata": {
    "colab": {
     "base_uri": "https://localhost:8080/",
     "height": 337
    },
    "id": "WCnWQVeeXqeK",
    "outputId": "30469762-1a1a-4344-e479-8efb383819a7"
   },
   "outputs": [
    {
     "data": {
      "text/plain": [
       "<matplotlib.collections.LineCollection at 0x7f5659342160>"
      ]
     },
     "execution_count": 85,
     "metadata": {},
     "output_type": "execute_result"
    },
    {
     "data": {
      "image/png": "[encoded data removed]",
      "text/plain": [
       "<Figure size 1080x360 with 1 Axes>"
      ]
     },
     "metadata": {
      "needs_background": "light"
     },
     "output_type": "display_data"
    }
   ],
   "source": [
    "fig,ax = plt.subplots(1,1,figsize=(15,5))\n",
    "ax.plot(x,mu, 'bo', ms=8, label='poisson pmf')\n",
    "ax.vlines(x,0,mu, colors='b', lw=5, alpha=0.5)"
   ]
  },
  {
   "cell_type": "markdown",
   "metadata": {
    "id": "WQM5H_gEX6pU"
   },
   "source": [
    "**Problem Statement 9:**\n",
    "\n",
    "Let the continuous random variable D denote the diameter of the hole drilled in an\n",
    "aluminum sheet. The target diameter to be achieved is 12.5mm. Random\n",
    "disturbances in the process often result in inaccuracy.\n",
    "Historical data shows that the distribution of D can be modelled by the PDF, f(d) =\n",
    "20e−20(d−12.5), d ≥ 12.5. If a part with diameter > 12.6 mm needs to be scrapped,\n",
    "what is the proportion of those parts? What is the CDF when the diameter is of 11\n",
    "mm?\n",
    "What is the conclusion of this experiment?"
   ]
  },
  {
   "cell_type": "code",
   "execution_count": 88,
   "metadata": {
    "colab": {
     "base_uri": "https://localhost:8080/"
    },
    "id": "YnAl2vbhXz__",
    "outputId": "16f09563-7497-41cc-9d1a-5974b7c2fd88"
   },
   "outputs": [
    {
     "name": "stdout",
     "output_type": "stream",
     "text": [
      "Proportion of Parts need to scrapped when d >12.6mm is :0.135\n",
      "CDF when d= 11mm is 0\n",
      "For diameter less than target diameter that is  12.5 mm, the proportion of scrap is zero.\n",
      "and for any value above 12.5 mm the proportion of scraps need to scrapped.\n"
     ]
    }
   ],
   "source": [
    "PDF=lambda d:20*(np.exp((-20*(d-12.5))))\n",
    "x = 12.6\n",
    "P_x=integrate.quad(PDF,12.6,np.inf)\n",
    "print(f\"Proportion of Parts need to scrapped when d >12.6mm is :{round(P_x[0],3)}\")\n",
    "print(f\"CDF when d= 11mm is 0\")\n",
    "print('For diameter less than target diameter that is  12.5 mm, the proportion of scrap is zero.\\nand for any value above 12.5 mm the proportion of scraps need to scrapped.')"
   ]
  },
  {
   "cell_type": "markdown",
   "metadata": {
    "id": "trmdsw_lYl7S"
   },
   "source": [
    "**Problem Statement 10:**\n",
    "\n",
    "Please compute the following:\n",
    "\n",
    "a) P(Z > 1.26), . P(Z < −0.86), P(Z > −1.37), P(−1.25 < Z < 0.37), . P(Z ≤ −4.6)"
   ]
  },
  {
   "cell_type": "code",
   "execution_count": 91,
   "metadata": {
    "colab": {
     "base_uri": "https://localhost:8080/"
    },
    "id": "0UlqfbHZYd3-",
    "outputId": "06bd3ef6-fe12-4d96-b9c4-d2017352f335"
   },
   "outputs": [
    {
     "name": "stdout",
     "output_type": "stream",
     "text": [
      "P(Z>1.26) = 0.10383\n",
      "P(Z<-0.86) = 0.19489\n",
      "P(Z>-1.37) = 0.91466\n",
      "P(−1.25 < Z < 0.37) = 0.53866\n",
      "P(Z ≤ −4.6) = 0.00000\n"
     ]
    }
   ],
   "source": [
    "def P(z,b=-np.inf) :\n",
    "    return integrate.quad(norm.pdf,b,z)[0]\n",
    "\n",
    "print('P(Z>1.26) = %.5f'%(1-P(1.26)))\n",
    "print('P(Z<-0.86) = %.5f'%P(-0.86))\n",
    "print('P(Z>-1.37) = %.5f'%(1-P(-1.37)))\n",
    "print('P(−1.25 < Z < 0.37) = %.5f'%P(0.37,b=-1.25))\n",
    "print('P(Z ≤ −4.6) = %.5f'%P(-4.6))"
   ]
  },
  {
   "cell_type": "markdown",
   "metadata": {
    "id": "NKg2s19PY-5j"
   },
   "source": [
    "b) Find the value z such that P(Z > z) = 0.05\n"
   ]
  },
  {
   "cell_type": "code",
   "execution_count": 92,
   "metadata": {
    "colab": {
     "base_uri": "https://localhost:8080/"
    },
    "id": "XQry8vh0YjQY",
    "outputId": "071dddec-f99f-4021-dff0-3302d65fab57"
   },
   "outputs": [
    {
     "name": "stdout",
     "output_type": "stream",
     "text": [
      "P(Z>z)=0.05 is 1.64\n"
     ]
    }
   ],
   "source": [
    "print('P(Z>z)=0.05 is %.2f'%(-1*norm.ppf(0.05)))"
   ]
  },
  {
   "cell_type": "markdown",
   "metadata": {
    "id": "jQzUdK0eZBFt"
   },
   "source": [
    "c) Find the value of z such that P(−z < Z < z) = 0.99"
   ]
  },
  {
   "cell_type": "code",
   "execution_count": 94,
   "metadata": {
    "colab": {
     "base_uri": "https://localhost:8080/"
    },
    "id": "Kp5_J37KZBk2",
    "outputId": "cf2de260-4520-428c-c396-d4f01d22b0d4"
   },
   "outputs": [
    {
     "name": "stdout",
     "output_type": "stream",
     "text": [
      "𝑃(−𝑧 < 𝑍 < 𝑧) = 0.99 is 2.58\n"
     ]
    }
   ],
   "source": [
    "print('𝑃(−𝑧 < 𝑍 < 𝑧) = 0.99 is %.2f'%(abs(norm.ppf(0.005))))"
   ]
  },
  {
   "cell_type": "markdown",
   "metadata": {
    "id": "L8qXs63zZZBI"
   },
   "source": [
    "**Problem Statement 11:**\n",
    "\n",
    "The current flow in a copper wire follow a normal distribution with a mean of 10 mA\n",
    "and a variance of 4 (mA)2.\n",
    "What is the probability that a current measurement will exceed 13 mA? What is the\n",
    "probability that a current measurement is between 9 and 11mA? Determine the\n",
    "current measurement which has a probability of 0.98."
   ]
  },
  {
   "cell_type": "code",
   "execution_count": 95,
   "metadata": {
    "colab": {
     "base_uri": "https://localhost:8080/"
    },
    "id": "PTDnAah7ZS9K",
    "outputId": "b3795996-75ef-4262-882f-5ee0873be18f"
   },
   "outputs": [
    {
     "name": "stdout",
     "output_type": "stream",
     "text": [
      "Probability that current > 13mA is: 0.06680720126885797\n",
      "Probability that current is between 9 mA and 11 mA is : 1.3085375387259144\n"
     ]
    }
   ],
   "source": [
    "mean = 10\n",
    "std = np.sqrt(4)\n",
    "\n",
    "def I(z, b=-np.inf):\n",
    "    z = (z-mean)/std\n",
    "    return integrate.quad(norm.pdf,b,z)[0]\n",
    "print(f\"Probability that current > 13mA is: {1-I(13)}\")\n",
    "print(f\"Probability that current is between 9 mA and 11 mA is : {1-I(11,b=9)}\")"
   ]
  },
  {
   "cell_type": "markdown",
   "metadata": {
    "id": "qsXTePMuZnmn"
   },
   "source": [
    "**Problem Statement 12:**\n",
    "\n",
    "The shaft in a piston has its diameter normally distributed with a mean of 0.2508 inch\n",
    "and a standard deviation of 0.0005 inch. The specifications of the shaft are 0.2500 ∓\n",
    "0.0015 inch. What proportion of shafts are in sync with the specifications? If the\n",
    "process is centered so that the mean is equal to the target value of 0.2500, what\n",
    "proportion of shafts conform to the new specifications? What is your conclusion from\n",
    "this experiment?"
   ]
  },
  {
   "cell_type": "code",
   "execution_count": 108,
   "metadata": {
    "colab": {
     "base_uri": "https://localhost:8080/"
    },
    "id": "-zDfMV-lZe0W",
    "outputId": "677516b4-fefc-4cdc-9573-2bd7c02762a1"
   },
   "outputs": [
    {
     "name": "stdout",
     "output_type": "stream",
     "text": [
      "Proportion of shafts with dia in range of -4.6W to 1.4W\n",
      "proportion of shafts are in sync with the specifications 0.9192\n"
     ]
    }
   ],
   "source": [
    "mean_dia=0.2508\n",
    "std=0.0005\n",
    "print(f\"Proportion of shafts with dia in range of {round(((0.2500-0.0015)-mean_dia)/std,2)}W to {round(((0.2500+0.0015)-mean_dia)/std,2)}W\\nproportion of shafts are in sync with the specifications {round(P(round(((0.2500+0.0015)-mean_dia)/std,2),b=round(((0.2500-0.0015)-mean_dia)/std,2)),4)}\")\n"
   ]
  },
  {
   "cell_type": "code",
   "execution_count": 109,
   "metadata": {
    "colab": {
     "base_uri": "https://localhost:8080/"
    },
    "id": "cg3B0ogBZynJ",
    "outputId": "be8968c7-0320-4a30-e974-6f06d4c0f850"
   },
   "outputs": [
    {
     "name": "stdout",
     "output_type": "stream",
     "text": [
      "Proportion of shafts with dia in range of -3.0W to 3.0W\n",
      "proportion of shafts are in sync with the specifications 0.9973\n"
     ]
    }
   ],
   "source": [
    "mean_dia=0.2500\n",
    "std=0.0005\n",
    "print(f\"Proportion of shafts with dia in range of {round(((0.2500-0.0015)-mean_dia)/std,2)}W to {round(((0.2500+0.0015)-mean_dia)/std,2)}W\\nproportion of shafts are in sync with the specifications {round(P(round(((0.2500+0.0015)-mean_dia)/std,2),b=round(((0.2500-0.0015)-mean_dia)/std,2)),4)}\")\n"
   ]
  },
  {
   "cell_type": "markdown",
   "metadata": {
    "id": "rBNgZrCdeE-E"
   },
   "source": [
    "So if we change the mean from 0.2508 to 0.2500 the proportion of shaft increases from 92% to 99.73%"
   ]
  }
 ],
 "metadata": {
  "colab": {
   "provenance": []
  },
  "gpuClass": "standard",
  "kernelspec": {
   "display_name": "Python 3",
   "language": "python",
   "name": "python3"
  },
  "language_info": {
   "codemirror_mode": {
    "name": "ipython",
    "version": 3
   },
   "file_extension": ".py",
   "mimetype": "text/x-python",
   "name": "python",
   "nbconvert_exporter": "python",
   "pygments_lexer": "ipython3",
   "version": "3.8.3"
  }
 },
 "nbformat": 4,
 "nbformat_minor": 1
}
